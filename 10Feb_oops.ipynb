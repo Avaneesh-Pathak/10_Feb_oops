{
 "cells": [
  {
   "cell_type": "markdown",
   "metadata": {},
   "source": [
    "Q1. Which function is used to open a file? What are the different modes of opening a file? Explain each mode\n",
    "of file opening.\n",
    "\n",
    "Q2. Why close() function is used? Why is it important to close a file?\n",
    "\n",
    "Q3. Write a python program to create a text file. Write ‘I want to become a Data Scientist’ in that file. Then\n",
    "close the file. Open this file and read the content of the file.\n",
    "\n",
    "Q4. Explain the following with python code: read(), readline() and readlines().\n",
    "\n",
    "Q5. Explain why with statement is used with open(). What is the advantage of using with statement and\n",
    "open() together?\n",
    "\n",
    "Q6. Explain the write() and writelines() functions. Give a suitable example."
   ]
  },
  {
   "cell_type": "markdown",
   "metadata": {},
   "source": [
    "\n",
    "Q1. The function used to open a file in Python is open().\n",
    "\n",
    "\n",
    "\"r\": Read mode. This is the default mode. It opens the file for reading, and if the file does not exist, it raises a FileNotFoundError.\n",
    "\"w\": Write mode. It opens the file for writing. If the file exists, it truncates the file (clears the contents) and starts writing from the beginning. If the file doesn't exist, it creates a new file.\n",
    "\"a\": Append mode. It opens the file for appending. If the file exists, it appends the new data at the end of the file. If the file doesn't exist, it creates a new file.\n",
    "\"x\": Exclusive creation mode. It opens the file for exclusive creation, which means it fails if the file already exists.\n",
    "\"b\": Binary mode. It opens the file in binary mode, allowing you to read or write binary data.\n",
    "\"t\": Text mode. This is the default mode. It opens the file in text mode, allowing you to read or write text data.\n"
   ]
  },
  {
   "cell_type": "markdown",
   "metadata": {},
   "source": [
    "Q2. The close() function is used to close a file in Python. It is important to close a file after you have finished reading from it or writing to it. Closing a file releases the resources associated with it, such as memory and system file handles.\n",
    "\n",
    "If you don't close a file after using it, it may lead to resource leaks, and the file may remain open even after your program has finished executing. Additionally, other processes or programs may not be able to access the file until it is closed.\n",
    "\n",
    "To ensure proper resource management and avoid potential issues, it is recommended to always close a file after you have finished working with it."
   ]
  },
  {
   "cell_type": "code",
   "execution_count": 3,
   "metadata": {},
   "outputs": [
    {
     "name": "stdout",
     "output_type": "stream",
     "text": [
      "I want to become a Data Scientist\n"
     ]
    }
   ],
   "source": [
    "# Q3.\n",
    "# Create a text file and write content\n",
    "file = open(\"sample.txt\", \"w\")\n",
    "file.write(\"I want to become a Data Scientist\")\n",
    "file.close()\n",
    "\n",
    "# Open the file and read its content\n",
    "file = open(\"sample.txt\", \"r\")\n",
    "content = file.read()\n",
    "file.close()\n",
    "\n",
    "# Print the content of the file\n",
    "print(content)\n"
   ]
  },
  {
   "cell_type": "markdown",
   "metadata": {},
   "source": [
    "Q4. The following functions are used for reading files in Python:\n",
    "\n",
    "read(): This function is used to read the entire contents of a file as a single string. It reads and returns the entire file content in one go.\n",
    "\n",
    "\n",
    "readline(): This function is used to read a single line from the file. Each time it is called, it reads the next line in the file.\n",
    "\n",
    "\n",
    "readlines(): This function is used to read all lines from the file and return them as a list of strings. Each line is an element in the list"
   ]
  },
  {
   "cell_type": "markdown",
   "metadata": {},
   "source": [
    "Q5. The with statement is used with open() to ensure proper handling of resources and automatic cleanup. It guarantees that the file is properly closed after the block of code inside the with statement is executed, even if an exception occurs.\n",
    "\n",
    "The advantage of using the with statement with open() is that it eliminates the need to explicitly call the close() method on the file object. The file is automatically closed at the end of the with block, regardless of whether the block is exited normally or due to an exception.\n",
    "\n",
    "The with statement provides a more concise and readable way of working with files, and it helps prevent resource leaks and ensures proper resource management."
   ]
  },
  {
   "cell_type": "markdown",
   "metadata": {},
   "source": [
    "Q6. The write() function is used to write data to a file. It takes a string as an argument and writes that string to the file.\n",
    "\n",
    "The writelines() function is used to write a list of strings to a file. Each string in the list is written as a separate line in the file.\n"
   ]
  }
 ],
 "metadata": {
  "kernelspec": {
   "display_name": "base",
   "language": "python",
   "name": "python3"
  },
  "language_info": {
   "codemirror_mode": {
    "name": "ipython",
    "version": 3
   },
   "file_extension": ".py",
   "mimetype": "text/x-python",
   "name": "python",
   "nbconvert_exporter": "python",
   "pygments_lexer": "ipython3",
   "version": "3.10.9"
  },
  "orig_nbformat": 4
 },
 "nbformat": 4,
 "nbformat_minor": 2
}
